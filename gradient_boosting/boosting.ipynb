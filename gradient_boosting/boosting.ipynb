{
 "cells": [
  {
   "cell_type": "code",
   "execution_count": 120,
   "metadata": {},
   "outputs": [],
   "source": [
    "import numpy as np\n",
    "import pandas as pd\n",
    "\n",
    "from sklearn.tree import DecisionTreeRegressor, DecisionTreeClassifier\n",
    "from sklearn.ensemble import GradientBoostingRegressor, GradientBoostingClassifier\n",
    "from sklearn.metrics import r2_score, mean_squared_error, accuracy_score\n",
    "from sklearn.model_selection import train_test_split\n",
    "from sklearn.preprocessing import OneHotEncoder, LabelEncoder\n",
    "from sklearn.impute import SimpleImputer\n",
    "from sklearn.neural_network import MLPRegressor"
   ]
  },
  {
   "cell_type": "code",
   "execution_count": 112,
   "metadata": {},
   "outputs": [
    {
     "name": "stdout",
     "output_type": "stream",
     "text": [
      "(537577, 11) (537577,)\n"
     ]
    }
   ],
   "source": [
    "df = pd.read_csv('./BlackFriday.csv')\n",
    "X = df.loc[:, df.columns != 'Purchase'].copy()\n",
    "y = df.loc[:, df.columns == 'Purchase'].copy()\n",
    "\n",
    "for c in ['Product_ID', 'Gender', 'Age', 'City_Category', 'Stay_In_Current_City_Years']:\n",
    "    X[c] = LabelEncoder().fit_transform(X[c])\n",
    "\n",
    "X = SimpleImputer().fit_transform(X)\n",
    "y = y.values.reshape(-1)\n",
    "print(X.shape, y.shape)"
   ]
  },
  {
   "cell_type": "code",
   "execution_count": 113,
   "metadata": {},
   "outputs": [
    {
     "name": "stdout",
     "output_type": "stream",
     "text": [
      "CART base r2_score: 0.38927463076192326\n",
      "GBDT base r2_score: 0.6553513882194604\n"
     ]
    }
   ],
   "source": [
    "model = DecisionTreeRegressor(max_depth=3)\n",
    "model.fit(X, y)\n",
    "print('CART base r2_score:', r2_score(y, model.predict(X)))\n",
    "\n",
    "model = GradientBoostingRegressor(max_depth=3)\n",
    "model.fit(X, y)\n",
    "print('GBDT base r2_score:', r2_score(y, model.predict(X)))"
   ]
  },
  {
   "cell_type": "code",
   "execution_count": 115,
   "metadata": {},
   "outputs": [
    {
     "name": "stdout",
     "output_type": "stream",
     "text": [
      "iter: 0 train_r2_scorre: -2.77\n",
      "iter: 10 train_r2_scorre: 0.11\n",
      "iter: 20 train_r2_scorre: 0.51\n",
      "iter: 30 train_r2_scorre: 0.58\n",
      "iter: 40 train_r2_scorre: 0.62\n",
      "iter: 50 train_r2_scorre: 0.63\n",
      "iter: 60 train_r2_scorre: 0.64\n",
      "iter: 70 train_r2_scorre: 0.65\n",
      "iter: 80 train_r2_scorre: 0.65\n",
      "iter: 90 train_r2_scorre: 0.65\n",
      "iter: 100 train_r2_scorre: 0.66\n"
     ]
    }
   ],
   "source": [
    "F = np.zeros_like(y, dtype=float)\n",
    "n_estimators = 101\n",
    "learning_rate = 0.1\n",
    "base_estimators = list()\n",
    "is_init = False\n",
    "\n",
    "for i in range(n_estimators):\n",
    "    negative_gradient = y - F\n",
    "    base = DecisionTreeRegressor(max_depth=3)\n",
    "    base.fit(X, negative_gradient)\n",
    "    base_estimators.append(base)\n",
    "    \n",
    "    if not init_flag:\n",
    "        F = base.predict(X)\n",
    "        is_init = True\n",
    "    else:\n",
    "        F += learning_rate * base.predict(X)\n",
    "    \n",
    "    if i % 10 == 0:\n",
    "        print('iter: {} train_r2_scorre: {:.2f}'.format(i, r2_score(y, F)))"
   ]
  },
  {
   "cell_type": "markdown",
   "metadata": {},
   "source": [
    "### Classification"
   ]
  },
  {
   "cell_type": "code",
   "execution_count": 116,
   "metadata": {},
   "outputs": [],
   "source": [
    "df = pd.read_csv('./heart.csv', index_col=0)\n",
    "\n",
    "X = df.loc[:, df.columns != 'target'].copy()\n",
    "y = df.loc[:, df.columns == 'target'].copy()\n",
    "\n",
    "X = X.values\n",
    "y = LabelEncoder().fit_transform(y)"
   ]
  },
  {
   "cell_type": "code",
   "execution_count": 117,
   "metadata": {},
   "outputs": [
    {
     "name": "stdout",
     "output_type": "stream",
     "text": [
      "CART base accuracy: 0.8448844884488449\n",
      "GBDT base accuracy: 0.9933993399339934\n"
     ]
    }
   ],
   "source": [
    "model = DecisionTreeClassifier(max_depth=3)\n",
    "model.fit(X, y)\n",
    "print('CART base accuracy:', accuracy_score(y, model.predict(X)))\n",
    "\n",
    "model = GradientBoostingClassifier(max_depth=3)\n",
    "model.fit(X, y)\n",
    "print('GBDT base accuracy:', accuracy_score(y, model.predict(X)))"
   ]
  },
  {
   "cell_type": "code",
   "execution_count": 118,
   "metadata": {},
   "outputs": [],
   "source": [
    "def logit(F):\n",
    "    return 1.0 / (1.0 + np.exp(-F))"
   ]
  },
  {
   "cell_type": "code",
   "execution_count": 119,
   "metadata": {},
   "outputs": [
    {
     "name": "stdout",
     "output_type": "stream",
     "text": [
      "iter: 0 train_accuracy: 0.8449\n",
      "iter: 10 train_accuracy: 0.8713\n",
      "iter: 20 train_accuracy: 0.8845\n",
      "iter: 30 train_accuracy: 0.8845\n",
      "iter: 40 train_accuracy: 0.8845\n",
      "iter: 50 train_accuracy: 0.8944\n",
      "iter: 60 train_accuracy: 0.8977\n",
      "iter: 70 train_accuracy: 0.9043\n",
      "iter: 80 train_accuracy: 0.9010\n",
      "iter: 90 train_accuracy: 0.9043\n",
      "iter: 100 train_accuracy: 0.9142\n"
     ]
    }
   ],
   "source": [
    "F = np.zeros_like(y, dtype=float)\n",
    "n_estimators = 101\n",
    "learning_rate = 0.1\n",
    "is_init = False\n",
    "base_estimators = list()\n",
    "\n",
    "for i in range(n_estimators):\n",
    "    negative_gradient = y - logit(F)\n",
    "    base = DecisionTreeRegressor(max_depth=3)\n",
    "    base.fit(X, negative_gradient)\n",
    "    base_estimators.append(base)\n",
    "    if not is_init:\n",
    "        F = base.predict(X)\n",
    "        is_init = True\n",
    "    else:\n",
    "        F += learning_rate * base.predict(X)\n",
    "    if i % 10 == 0:\n",
    "        print('iter: {} train_accuracy: {:.4f}'.format(\n",
    "            i, accuracy_score(y, (logit(F) > 0.5).astype(int))))"
   ]
  }
 ],
 "metadata": {
  "kernelspec": {
   "display_name": "Python 3",
   "language": "python",
   "name": "python3"
  },
  "language_info": {
   "codemirror_mode": {
    "name": "ipython",
    "version": 3
   },
   "file_extension": ".py",
   "mimetype": "text/x-python",
   "name": "python",
   "nbconvert_exporter": "python",
   "pygments_lexer": "ipython3",
   "version": "3.7.3"
  }
 },
 "nbformat": 4,
 "nbformat_minor": 2
}
